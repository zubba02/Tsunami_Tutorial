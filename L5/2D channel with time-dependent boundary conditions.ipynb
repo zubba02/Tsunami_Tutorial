{
 "cells": [
  {
   "cell_type": "markdown",
   "metadata": {},
   "source": [
    "# 2D Channel With time-dependent boundary conditions\n",
    "#### This example demonstrates the simulation of a flow in a 2D channel using constant and time dependent boundary conditions. \n",
    "[Link to Tutorials on Thetis Website](https://thetisproject.org/documentation.html)"
   ]
  },
  {
   "cell_type": "markdown",
   "metadata": {},
   "source": [
    "We begin by importing Thetis and creating a rectangular mesh using the builtin Firedrake mesh utility. \n",
    "Our domain is 40 km long and 2 km wide, and we will generate 25 elements in the along-channel direction and 2 in the cross-channel direction:"
   ]
  },
  {
   "cell_type": "code",
   "execution_count": null,
   "metadata": {},
   "outputs": [],
   "source": [
    "%matplotlib inline\n",
    "from thetis import *\n",
    "\n",
    "lx = 40e3\n",
    "ly = 2e3\n",
    "nx = 25\n",
    "ny = 2\n",
    "mesh2d = RectangleMesh(nx, ny, lx, ly)"
   ]
  },
  {
   "cell_type": "markdown",
   "metadata": {},
   "source": [
    "We could use the built in [plot](https://firedrakeproject.org/firedrake.html#firedrake.plot.plot) function of firedrake to visualise the mesh.\n"
   ]
  },
  {
   "cell_type": "code",
   "execution_count": null,
   "metadata": {},
   "outputs": [],
   "source": [
    "plot(mesh2d)"
   ]
  },
  {
   "cell_type": "markdown",
   "metadata": {},
   "source": [
    "Next we define a bathymetry function in the 2D mesh using continuous linear elements, and set the bathymetry to a constant 20 m depth:"
   ]
  },
  {
   "cell_type": "code",
   "execution_count": null,
   "metadata": {},
   "outputs": [],
   "source": [
    "P1_2d = FunctionSpace(mesh2d, 'CG', 1)\n",
    "bathymetry_2d = Function(P1_2d, name='Bathymetry')\n",
    "depth = 20.0\n",
    "bathymetry_2d.assign(depth)"
   ]
  },
  {
   "cell_type": "markdown",
   "metadata": {},
   "source": [
    "*Refer to the [Firedrake manual - Defining variational problems](https://firedrakeproject.org/variational-problems.html) for more information on mesh generation, functions and function spaces.*"
   ]
  },
  {
   "cell_type": "markdown",
   "metadata": {},
   "source": [
    "We are now ready to create a 2D solver object, and set some options."
   ]
  },
  {
   "cell_type": "code",
   "execution_count": null,
   "metadata": {},
   "outputs": [],
   "source": [
    "solver_obj = solver2d.FlowSolver2d(mesh2d, bathymetry_2d)\n",
    "options = solver_obj.options"
   ]
  },
  {
   "cell_type": "markdown",
   "metadata": {},
   "source": [
    "First we set the options for the total duration and export intervals:"
   ]
  },
  {
   "cell_type": "code",
   "execution_count": null,
   "metadata": {},
   "outputs": [],
   "source": [
    "t_end = 2 * 3600\n",
    "t_export = 100.0\n",
    "options.simulation_export_time = t_export\n",
    "options.simulation_end_time = t_end"
   ]
  },
  {
   "cell_type": "markdown",
   "metadata": {},
   "source": [
    "Next we define the time integrator, and set the time step, which can be chosed freely since Crank-Nicolson is unconditionally stable."
   ]
  },
  {
   "cell_type": "code",
   "execution_count": null,
   "metadata": {},
   "outputs": [],
   "source": [
    "options.timestepper_type = 'CrankNicolson'\n",
    "options.timestep = 50.0"
   ]
  },
  {
   "cell_type": "markdown",
   "metadata": {},
   "source": [
    "We will force the model with a constant volume flux at the right boundary (x=40 km) and impose a tidal volume flux on the left boundary (x=0 km).\n",
    "\n",
    "Boundary condtitions are defined for each external boundary using their ID. In this example we will use the built in Firedrake mesh utility which assigns IDs 1, 2, 3, and 4 for the four sides of the rectangle."
   ]
  },
  {
   "cell_type": "code",
   "execution_count": 1,
   "metadata": {},
   "outputs": [],
   "source": [
    "left_bnd_id = 1\n",
    "right_bnd_id = 2"
   ]
  },
  {
   "cell_type": "markdown",
   "metadata": {},
   "source": [
    "At each boundary we need to define the external value of the prognostic variables, i.e. in this case the water elevation and velocity.The value should be either a Firedrake [Constant](https://firedrakeproject.org/firedrake.html#firedrake.constant.Constant) or a Firedrake [Function](https://firedrakeproject.org/firedrake.html#firedrake.function.Function) (in case the boundary condition is not uniform in space).\n",
    "\n",
    "We store the boundary conditions in a dictionary.\n"
   ]
  },
  {
   "cell_type": "code",
   "execution_count": null,
   "metadata": {},
   "outputs": [],
   "source": [
    "swe_bnd = {}\n",
    "in_flux = 1e3\n",
    "swe_bnd[right_bnd_id] = {'elev': Constant(0.0),\n",
    "                         'flux': Constant(-in_flux)}"
   ]
  },
  {
   "cell_type": "markdown",
   "metadata": {},
   "source": [
    "Above we set the water elevation to zero and prescribe a constant volume flux. The volume flux is defined as outward normal flux, i.e. a negative value stands for flow into the domain. Alternatively we could also prescribe the normal velocity (with key 'un') or the 2D velocity vector ('uv'). For all supported boundary conditions, see module [shallowwater_eq](https://thetisproject.org/thetis.html#module-thetis.shallowwater_eq).\n",
    "\n",
    "In order to set time-dependent boundary conditions we first define a python function that evaluates the time dependent variable:"
   ]
  },
  {
   "cell_type": "code",
   "execution_count": null,
   "metadata": {},
   "outputs": [],
   "source": [
    "def timedep_flux(simulation_time):\n",
    "    \"\"\"Time-dependent flux function\"\"\"\n",
    "    tide_amp = -2e3\n",
    "    tide_t = 12 * 3600.\n",
    "    flux = tide_amp*sin(2 * pi * simulation_time / tide_t) + in_flux\n",
    "    return flux"
   ]
  },
  {
   "cell_type": "markdown",
   "metadata": {},
   "source": [
    "We then create a Constant object with the initial value, and assign it to the left boundary:"
   ]
  },
  {
   "cell_type": "code",
   "execution_count": null,
   "metadata": {},
   "outputs": [],
   "source": [
    "tide_flux_const = Constant(timedep_flux(0))\n",
    "swe_bnd[left_bnd_id] = {'flux': tide_flux_const}"
   ]
  },
  {
   "cell_type": "markdown",
   "metadata": {},
   "source": [
    "Boundary conditions are now complete, and we assign them to the solver object:"
   ]
  },
  {
   "cell_type": "code",
   "execution_count": null,
   "metadata": {},
   "outputs": [],
   "source": [
    "solver_obj.bnd_functions['shallow_water'] = swe_bnd"
   ]
  },
  {
   "cell_type": "markdown",
   "metadata": {},
   "source": [
    "Note that if boundary conditions are not assigned for some boundaries (the lateral boundaries 3 and 4 in this case), Thetis assumes impermeable land conditions.\n",
    "\n",
    "The only missing piece is to add a mechanism that re-evaluates the boundary condition as the simulation progresses. For this purpose we use the optional update_forcings argument of the [iterate()](https://thetisproject.org/thetis.html#thetis.solver2d.FlowSolver2d.iterate) method. update_forcings is a python function that updates all time dependent [Constants](https://firedrakeproject.org/firedrake.html#firedrake.constant.Constant) or [Functions](https://firedrakeproject.org/firedrake.html#firedrake.function.Function) used to force the model. In this case we only need to update tide_flux_const:\n",
    " \n",
    "To visualise the results of the simulation we also plot the Elevation at selected time steps."
   ]
  },
  {
   "cell_type": "code",
   "execution_count": null,
   "metadata": {},
   "outputs": [],
   "source": [
    "def update_forcings(t_new):\n",
    "    uv, elev = solver_obj.fields.solution_2d.split()\n",
    "    \"\"\"Callback function that updates all time dependent forcing fields\"\"\"\n",
    "    tide_flux_const.assign(timedep_flux(t_new))\n",
    "    plot_time = [1000,2000,4000,7000]\n",
    "    for i in plot_time:\n",
    "        if t_new == i:\n",
    "            plot(elev)"
   ]
  },
  {
   "cell_type": "markdown",
   "metadata": {},
   "source": [
    "Finally pass this callback to the time iterator:"
   ]
  },
  {
   "cell_type": "code",
   "execution_count": null,
   "metadata": {},
   "outputs": [],
   "source": [
    "solver_obj.iterate(update_forcings=update_forcings)"
   ]
  }
 ],
 "metadata": {
  "kernelspec": {
   "display_name": "Python 3",
   "language": "python",
   "name": "python3"
  },
  "language_info": {
   "codemirror_mode": {
    "name": "ipython",
    "version": 3
   },
   "file_extension": ".py",
   "mimetype": "text/x-python",
   "name": "python",
   "nbconvert_exporter": "python",
   "pygments_lexer": "ipython3",
   "version": "3.5.2"
  }
 },
 "nbformat": 4,
 "nbformat_minor": 2
}
